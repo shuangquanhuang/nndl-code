{
 "cells": [
  {
   "cell_type": "markdown",
   "metadata": {},
   "source": [
    "假设有$N$个样本$x^{(1)}, x^{(2)}, \\cdots ,x^{(N)}$服从正态分布$\\mathcal N(\\mu,\\sigma^2)$，其\n",
    "中$\\mu$未知。(1)使用最大似然估计来求解最优参数 $\\mu_{ML}$。(2)若参数$\\mu$为随机变 量，并服从正态分布$\\mathcal N(\\mu_0, \\sigma_0^2)$，使用最大后验估计来求解最优参数$\\mu_{MAP}$。"
   ]
  },
  {
   "cell_type": "markdown",
   "metadata": {},
   "source": [
    "(1)\n",
    "\n",
    "\n",
    "高斯分布：\n",
    "\n",
    "$$\n",
    "f_{\\mathbf x}(x_j) = (2 \\pi \\sigma^2)^{-\\frac{1}{2}}\\ exp \\bigl ( -\\frac{1}{2} \\frac{(x_j-\\mu)^2}{\\sigma^2}\\bigr )\n",
    "$$\n",
    "\n",
    "似然函数为：\n",
    "\n",
    "$$\n",
    "\\begin{aligned}\n",
    "\\mathcal L (\\mu, \\sigma^2; x_1, x_2, \\cdots, x_n) &= \\prod_{j=1}^N (2 \\pi \\sigma^2)^{-\\frac{1}{2}}\\ exp \\bigl ( -\\frac{1}{2} \\frac{(x_j-\\mu)^2}{\\sigma^2}\\bigr )\n",
    "\\\\\\\\ &= (2 \\pi \\sigma^2)^{-\\frac{N}{2}}\\ exp \\bigl ( \\sum_{j=1}^N -\\frac{1}{2} \\frac{(x_j-\\mu)^2}{\\sigma^2} \\bigr )\n",
    "\\\\\\\\ &= (2 \\pi \\sigma^2)^{-\\frac{N}{2}}\\ exp \\bigl ( -\\frac{1}{2\\sigma^2} \\sum_{j=1}^N (x_j-\\mu)^2 \\bigr )\n",
    "\\end{aligned}\n",
    "$$\n",
    "\n",
    "得到对数似然函数：\n",
    "\n",
    "$$\n",
    "\\begin{aligned}\n",
    "\\mathcal L(\\mu, \\sigma^2; x_1, x_2, \\cdots, x_n) &= -\\frac{N}{2}ln(2\\pi) - \\frac{N}{2}ln(\\sigma^2) -\\frac{1}{2\\sigma^2} \\sum_{j=1}^N (x_j-\\mu)^2\n",
    "\\end{aligned}\n",
    "$$\n",
    "\n",
    "对$\\mu$求偏导并令其等于$0$得到：\n",
    "\n",
    "$$\n",
    "\\begin{aligned}\n",
    "\\frac{\\partial \\mathcal L(\\mu, \\sigma^2; x_1, x_2, \\cdots, x_n)}{\\partial \\mu} &= \\frac{1}{\\sigma^2} \\sum_{j=1}^N(x_j-\\mu) = 0\n",
    "\\\\\\\\ \\Rightarrow & \\sum_{j=1}^N(x_j-\\mu) = 0\n",
    "\\\\\\\\ \\Rightarrow & \\mu_{ML} = \\frac{1}{N} \\sum_{j=1}^Nx_j\n",
    "\\end{aligned}\n",
    "$$\n",
    "\n",
    "同样对$\\sigma^2$求偏导并令其等于$0$得到：\n",
    "$$\n",
    "\\begin{aligned}\n",
    "\\frac{\\partial \\mathcal L(\\mu, \\sigma^2; x_1, x_2, \\cdots, x_n)}{\\partial \\sigma^2} &= -\\frac{N}{2\\sigma^2} - \\frac{1}{2} \\sum_{j=1}^N (x_j-\\mu)^2 \\frac{\\partial}{\\partial \\sigma^2} (\\frac{1} {\\sigma^2})\n",
    "\\\\\\\\ &= -\\frac{N}{2\\sigma^2} - \\frac{1}{2} \\sum_{j=1}^N (x_j-\\mu)^2 (-\\frac{1} {(\\sigma^2)^2})\n",
    "\\\\\\\\ &= -\\frac{N}{2\\sigma^2} + \\frac{1}{2} \\sum_{j=1}^N (x_j-\\mu)^2 (\\frac{1} {(\\sigma^2)^2})\n",
    "\\\\\\\\ &= \\frac{1}{2\\sigma^2} \\bigl (\\frac{1} {\\sigma^2} \\sum_{j=1}^N (x_j-\\mu)^2 - N \\bigr )\n",
    "\\\\\\\\ &= 0\n",
    "\\\\\\\\ \\Rightarrow & \\sigma^2 = \\frac{1}{N} \\sum_{j=1}^N (x_j-\\mu)^2\n",
    "\\end{aligned}\n",
    "$$"
   ]
  },
  {
   "cell_type": "markdown",
   "metadata": {},
   "source": [
    "(2)\n",
    "要使得后验概率最大：\n",
    "\n",
    "$$\n",
    "\\begin{aligned}\n",
    "\\hat\\mu_{MAP} &= \\underset{\\mu}{\\arg \\max} \\rho(\\mu|X) \n",
    "\\\\\\\\ &= \\underset{\\mu}{\\arg \\max}\\frac{\\rho(X|\\mu)\\rho(\\mu)}{\\rho(X)}\n",
    "\\\\\\\\ &= \\underset{\\mu}{\\arg \\max} \\rho(X|\\mu)\\rho(\\mu)\n",
    "\\end{aligned}\n",
    "$$\n",
    "\n",
    "取对数得到：\n",
    "\n",
    "$$\n",
    "\\begin{aligned}\n",
    "\\mathcal L = \\underset{\\mu}{\\arg \\max}\\ Pr(\\mu|X)&=\\underset{\\mu}{\\arg \\max}\\ log\\ Pr(\\mu|X)\n",
    "\\\\\\\\&=\\underset{\\mu}{\\arg \\max}\\ log\\ \\prod_{x_i \\in X}\\ Pr(x_i|\\mu) \\cdot Pr(\\mu)\n",
    "\\\\\\\\ &= \\underset{\\mu}{\\arg \\max}\\ \\sum_{x_i \\in X}\\{log \\ Pr(x_i|\\mu)\\} + log \\ Pr(\\mu)\n",
    "\\end{aligned}\n",
    "$$\n",
    "\n",
    "其中$Pr(\\mu) \\sim \\mathcal N (\\mu_0, \\sigma_0^2)$，对目标函数求导：\n",
    "\n",
    "$$\n",
    "\\begin{aligned}\n",
    "\\frac{\\partial \\mathcal L}{\\mu} &= \\sum_{i=1}^N \\{ \\frac{\\partial}{\\partial \\mu} log Pr(x_i| \\mu) \\} + \\frac{\\partial}{\\partial \\mu} log \\mathcal N (\\mu_0, \\sigma_0^2) = 0\n",
    "\\\\\\\\ \\Rightarrow & \\frac{1}{\\sigma^2} \\sum_{j=1}^N(x_j-\\mu) + (\\frac{\\mu-\\mu_0}{\\sigma_0})^2 = 0\n",
    "\\\\\\\\ \\Rightarrow & \\mu_{MAP} = \\frac{\\sigma_0^2(\\sum_{j=1}^{N}x_j)+\\sigma^2\\mu_0}{\\sigma_0^2N + \\sigma^2}\n",
    "\\end{aligned}\n",
    "$$"
   ]
  },
  {
   "cell_type": "markdown",
   "metadata": {},
   "source": [
    "2-7 证明当$N\\rightarrow \\infty$时，最大后验估计趋于最大似然估计\n",
    "\n",
    "意味着做无数次实验之后，先验知识已经完全不重要了。\n",
    "\n",
    "\n",
    "$$\n",
    "\\begin{aligned}\n",
    "\\lim_{N \\rightarrow \\infty} \\mu_{MAP} &=\\lim_{N \\rightarrow \\infty} \\frac{\\sigma_0^2(\\sum_{j=1}^{N}x_j)+\\sigma^2\\mu_0}{\\sigma_0^2N + \\sigma^2}\n",
    "\\\\\\\\ &= \\lim_{N \\rightarrow \\infty} \\frac{\\sigma_0^2(\\sum_{j=1}^{N}x_j)}{\\sigma_0^2N + \\sigma^2}\n",
    "\\\\\\\\ &= \\lim_{N \\rightarrow \\infty} \\frac{\\sigma_0^2(\\sum_{j=1}^{N}x_j)}{\\sigma_0^2N}\n",
    "\\\\\\\\ &= \\frac{1}{N}\\sum_{j=1}^{N}x_j\n",
    "\\\\\\\\ &= \\mu_{ML}\n",
    "\\end{aligned}\n",
    "$$\n"
   ]
  },
  {
   "cell_type": "code",
   "execution_count": null,
   "metadata": {},
   "outputs": [],
   "source": []
  }
 ],
 "metadata": {
  "kernelspec": {
   "display_name": "Python 3",
   "language": "python",
   "name": "python3"
  },
  "language_info": {
   "codemirror_mode": {
    "name": "ipython",
    "version": 3
   },
   "file_extension": ".py",
   "mimetype": "text/x-python",
   "name": "python",
   "nbconvert_exporter": "python",
   "pygments_lexer": "ipython3",
   "version": "3.6.8"
  }
 },
 "nbformat": 4,
 "nbformat_minor": 2
}
